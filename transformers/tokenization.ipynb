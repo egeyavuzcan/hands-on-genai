{
 "cells": [
  {
   "cell_type": "code",
   "execution_count": 1,
   "id": "948b96d2",
   "metadata": {},
   "outputs": [
    {
     "name": "stdout",
     "output_type": "stream",
     "text": [
      "True\n",
      "1\n",
      "NVIDIA GeForce GTX 1650\n"
     ]
    }
   ],
   "source": [
    "import torch\n",
    "print(torch.cuda.is_available())      # True olmalı\n",
    "print(torch.cuda.device_count())      # Kaç GPU var?\n",
    "print(torch.cuda.get_device_name(0)) "
   ]
  },
  {
   "cell_type": "code",
   "execution_count": 2,
   "id": "81123d50",
   "metadata": {},
   "outputs": [
    {
     "name": "stderr",
     "output_type": "stream",
     "text": [
      "c:\\Users\\egeya\\anaconda3\\envs\\genaibook\\lib\\site-packages\\tqdm\\auto.py:21: TqdmWarning: IProgress not found. Please update jupyter and ipywidgets. See https://ipywidgets.readthedocs.io/en/stable/user_install.html\n",
      "  from .autonotebook import tqdm as notebook_tqdm\n"
     ]
    },
    {
     "name": "stdout",
     "output_type": "stream",
     "text": [
      "2132 \t: It\n",
      "572 \t:  was\n",
      "264 \t:  a\n",
      "6319 \t:  dark\n",
      "323 \t:  and\n",
      "13458 \t:  storm\n",
      "88 \t: y\n"
     ]
    }
   ],
   "source": [
    "from transformers import AutoTokenizer\n",
    "\n",
    "prompt = \"It was a dark and stormy\"\n",
    "tokenizer = AutoTokenizer.from_pretrained(\"Qwen/Qwen2-0.5B\")\n",
    "input_ids = tokenizer(prompt).input_ids\n",
    "input_ids\n",
    "[2132, 572, 264, 6319, 323, 13458, 88]\n",
    "for t in input_ids:\n",
    " print(t, \"\\t:\", tokenizer.decode(t))"
   ]
  },
  {
   "cell_type": "code",
   "execution_count": 3,
   "id": "95cfd30e",
   "metadata": {},
   "outputs": [],
   "source": [
    "from transformers import AutoModelForCausalLM\n",
    "model = AutoModelForCausalLM.from_pretrained(\"Qwen/Qwen2-0.5B\")"
   ]
  },
  {
   "cell_type": "code",
   "execution_count": 4,
   "id": "054368aa",
   "metadata": {},
   "outputs": [
    {
     "data": {
      "text/plain": [
       "torch.Size([1, 7, 151936])"
      ]
     },
     "execution_count": 4,
     "metadata": {},
     "output_type": "execute_result"
    }
   ],
   "source": [
    "# We tokenize again but specifying the tokenizer that we want it to\n",
    "# return a PyTorch tensor, which is what the model expects,\n",
    "# rather than a list of integers\n",
    "input_ids = tokenizer(prompt, return_tensors=\"pt\").input_ids\n",
    "outputs = model(input_ids)\n",
    "outputs.logits.shape # An output for each input token"
   ]
  },
  {
   "cell_type": "code",
   "execution_count": 6,
   "id": "c1ecd7bf",
   "metadata": {},
   "outputs": [
    {
     "data": {
      "text/plain": [
       "tensor(3729)"
      ]
     },
     "execution_count": 6,
     "metadata": {},
     "output_type": "execute_result"
    }
   ],
   "source": [
    "final_logits = model(input_ids).logits[0, -1] # The last set of logits\n",
    "final_logits.argmax() # The position of the maximum\n",
    "\n"
   ]
  },
  {
   "cell_type": "code",
   "execution_count": 7,
   "id": "0c6e09c6",
   "metadata": {},
   "outputs": [
    {
     "data": {
      "text/plain": [
       "' night'"
      ]
     },
     "execution_count": 7,
     "metadata": {},
     "output_type": "execute_result"
    }
   ],
   "source": [
    "tokenizer.decode(final_logits.argmax())"
   ]
  },
  {
   "cell_type": "code",
   "execution_count": 8,
   "id": "f6a0de8c",
   "metadata": {},
   "outputs": [
    {
     "name": "stdout",
     "output_type": "stream",
     "text": [
      " night\n",
      " evening\n",
      " day\n",
      " morning\n",
      " winter\n",
      " afternoon\n",
      " Saturday\n",
      " Sunday\n",
      " Friday\n",
      " October\n"
     ]
    }
   ],
   "source": [
    "import torch\n",
    "top10_logits = torch.topk(final_logits, 10)\n",
    "for index in top10_logits.indices:\n",
    " print(tokenizer.decode(index))"
   ]
  },
  {
   "cell_type": "code",
   "execution_count": 9,
   "id": "462162c2",
   "metadata": {},
   "outputs": [
    {
     "name": "stdout",
     "output_type": "stream",
     "text": [
      " night     88.71%\n",
      " evening   4.30%\n",
      " day       2.19%\n",
      " morning   0.49%\n",
      " winter    0.45%\n",
      " afternoon 0.27%\n",
      " Saturday  0.25%\n",
      " Sunday    0.19%\n",
      " Friday    0.17%\n",
      " October   0.16%\n"
     ]
    }
   ],
   "source": [
    "top10 = torch.topk(final_logits.softmax(dim=0), 10)\n",
    "for value, index in zip(top10.values, top10.indices):\n",
    " print(f\"{tokenizer.decode(index):<10} {value.item():.2%}\")\n"
   ]
  },
  {
   "cell_type": "code",
   "execution_count": 10,
   "id": "e0b72800",
   "metadata": {},
   "outputs": [
    {
     "name": "stderr",
     "output_type": "stream",
     "text": [
      "The attention mask and the pad token id were not set. As a consequence, you may observe unexpected behavior. Please pass your input's `attention_mask` to obtain reliable results.\n",
      "Setting `pad_token_id` to `eos_token_id`:151643 for open-end generation.\n",
      "The attention mask is not set and cannot be inferred from input because pad token is same as eos token. As a consequence, you may observe unexpected behavior. Please pass your input's `attention_mask` to obtain reliable results.\n"
     ]
    },
    {
     "name": "stdout",
     "output_type": "stream",
     "text": [
      "Input IDs tensor([ 2132,   572,   264,  6319,   323, 13458,    88])\n",
      "Output IDs tensor([[ 2132,   572,   264,  6319,   323, 13458,    88,  3729,    13,   576,\n",
      "         12884,   572,  6319,   323,   279,  9956,   572,  1246,  2718,    13,\n",
      "           576, 11174,   572, 50413,  1495,   323,   279]])\n",
      "Generated text: It was a dark and stormy night. The sky was dark and the wind was howling. The rain was pouring down and the\n"
     ]
    }
   ],
   "source": [
    "output_ids = model.generate(input_ids, max_new_tokens=20)\n",
    "decoded_text = tokenizer.decode(output_ids[0])\n",
    "print(\"Input IDs\", input_ids[0])\n",
    "print(\"Output IDs\", output_ids)\n",
    "print(f\"Generated text: {decoded_text}\")"
   ]
  },
  {
   "cell_type": "code",
   "execution_count": 11,
   "id": "4aa31834",
   "metadata": {},
   "outputs": [
    {
     "name": "stderr",
     "output_type": "stream",
     "text": [
      "The attention mask and the pad token id were not set. As a consequence, you may observe unexpected behavior. Please pass your input's `attention_mask` to obtain reliable results.\n",
      "Setting `pad_token_id` to `eos_token_id`:151643 for open-end generation.\n"
     ]
    },
    {
     "name": "stdout",
     "output_type": "stream",
     "text": [
      "It was a dark and stormy day in my home, and my wife and I were wondering why two burglars went out at night and broke in our home without us noticing.\n",
      "At first I wondered why they would bother breaking into our\n"
     ]
    }
   ],
   "source": [
    "sampling_output = model.generate(\n",
    " input_ids,\n",
    " do_sample=True,\n",
    " max_new_tokens=40,\n",
    " top_p=0.94,\n",
    " top_k=0,\n",
    ")\n",
    "print(tokenizer.decode(sampling_output[0]))"
   ]
  }
 ],
 "metadata": {
  "kernelspec": {
   "display_name": "genaibook",
   "language": "python",
   "name": "python3"
  },
  "language_info": {
   "codemirror_mode": {
    "name": "ipython",
    "version": 3
   },
   "file_extension": ".py",
   "mimetype": "text/x-python",
   "name": "python",
   "nbconvert_exporter": "python",
   "pygments_lexer": "ipython3",
   "version": "3.10.16"
  }
 },
 "nbformat": 4,
 "nbformat_minor": 5
}
