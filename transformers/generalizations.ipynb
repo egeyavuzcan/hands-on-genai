{
 "cells": [
  {
   "cell_type": "code",
   "execution_count": 2,
   "id": "4ce7668c",
   "metadata": {},
   "outputs": [
    {
     "name": "stderr",
     "output_type": "stream",
     "text": [
      "c:\\Users\\egeya\\anaconda3\\envs\\genaibook\\lib\\site-packages\\tqdm\\auto.py:21: TqdmWarning: IProgress not found. Please update jupyter and ipywidgets. See https://ipywidgets.readthedocs.io/en/stable/user_install.html\n",
      "  from .autonotebook import tqdm as notebook_tqdm\n"
     ]
    }
   ],
   "source": [
    "import torch\n",
    "from transformers import AutoTokenizer\n",
    "from transformers import AutoModelForCausalLM"
   ]
  },
  {
   "cell_type": "code",
   "execution_count": 3,
   "id": "50bbfa67",
   "metadata": {},
   "outputs": [],
   "source": [
    "tokenizer = AutoTokenizer.from_pretrained(\"Qwen/Qwen2-0.5B\")\n",
    "model = AutoModelForCausalLM.from_pretrained(\"Qwen/Qwen2-0.5B\")"
   ]
  },
  {
   "cell_type": "code",
   "execution_count": 4,
   "id": "37b1ad87",
   "metadata": {},
   "outputs": [
    {
     "data": {
      "text/plain": [
       "([6785], [8225])"
      ]
     },
     "execution_count": 4,
     "metadata": {},
     "output_type": "execute_result"
    }
   ],
   "source": [
    "tokenizer.encode(\" positive\"), tokenizer.encode(\" negative\")"
   ]
  },
  {
   "cell_type": "code",
   "execution_count": 5,
   "id": "3917d2c6",
   "metadata": {},
   "outputs": [],
   "source": [
    "def score(review):\n",
    " \"\"\"Predict whether it is positive or negative\n",
    " This function predicts whether a review is positive or negative\n",
    " using a bit of clever prompting. It looks at the logits for the\n",
    " tokens ' positive' and ' negative', and returns the label\n",
    " with the highest score.\n",
    " \"\"\"\n",
    " prompt = f\"\"\"Question: Is the following review positive or\n",
    "negative about the movie?\n",
    "Review: {review} Answer:\"\"\"\n",
    " input_ids = tokenizer(prompt, return_tensors=\"pt\").input_ids\n",
    " final_logits = model(input_ids).logits[0, -1]\n",
    " if final_logits[6785] > final_logits[8225]:\n",
    "    print(\"Positive\")\n",
    " else:\n",
    "    print(\"Negative\")\n",
    "\n",
    "\n"
   ]
  },
  {
   "cell_type": "code",
   "execution_count": 6,
   "id": "0b638146",
   "metadata": {},
   "outputs": [
    {
     "name": "stdout",
     "output_type": "stream",
     "text": [
      "Negative\n"
     ]
    }
   ],
   "source": [
    "score(\"This movie was terrible!\")\n",
    "\n"
   ]
  },
  {
   "cell_type": "code",
   "execution_count": 7,
   "id": "31e3af41",
   "metadata": {},
   "outputs": [
    {
     "name": "stdout",
     "output_type": "stream",
     "text": [
      "Positive\n"
     ]
    }
   ],
   "source": [
    "score(\"That movie was great!\")\n"
   ]
  },
  {
   "cell_type": "code",
   "execution_count": 8,
   "id": "c4b840e5",
   "metadata": {},
   "outputs": [
    {
     "name": "stdout",
     "output_type": "stream",
     "text": [
      "Negative\n"
     ]
    }
   ],
   "source": [
    "\n",
    "score(\"A complex yet wonderful film about the depravity of man\") # A mistake\n"
   ]
  },
  {
   "cell_type": "code",
   "execution_count": 9,
   "id": "277e779f",
   "metadata": {},
   "outputs": [
    {
     "name": "stderr",
     "output_type": "stream",
     "text": [
      "The attention mask and the pad token id were not set. As a consequence, you may observe unexpected behavior. Please pass your input's `attention_mask` to obtain reliable results.\n",
      "Setting `pad_token_id` to `eos_token_id`:151643 for open-end generation.\n",
      "The attention mask is not set and cannot be inferred from input because pad token is same as eos token. As a consequence, you may observe unexpected behavior. Please pass your input's `attention_mask` to obtain reliable results.\n"
     ]
    },
    {
     "name": "stdout",
     "output_type": "stream",
     "text": [
      "Translate English to Spanish:\n",
      "English: I do not speak Spanish.\n",
      "Spanish: No hablo español.\n",
      "English: See you later!\n",
      "Spanish: ¡Hasta luego!\n",
      "English: Where is a good restaurant?\n",
      "Spanish: ¿Dónde hay un buen restaurante?\n",
      "English: What rooms do you have available?\n",
      "Spanish: ¿Qué habitaciones tiene disponibles?\n",
      "English: I like soccer\n",
      "Spanish: Me gusta el fútbol\n",
      "English:\n"
     ]
    }
   ],
   "source": [
    "prompt = \"\"\"\\\n",
    "Translate English to Spanish:\n",
    "English: I do not speak Spanish.\n",
    "Spanish: No hablo español.\n",
    "English: See you later!\n",
    "Spanish: ¡Hasta luego!\n",
    "English: Where is a good restaurant?\n",
    "Spanish: ¿Dónde hay un buen restaurante?\n",
    "English: What rooms do you have available?\n",
    "Spanish: ¿Qué habitaciones tiene disponibles?\n",
    "English: I like soccer\n",
    "Spanish:\"\"\"\n",
    "inputs = tokenizer(prompt, return_tensors=\"pt\").input_ids\n",
    "output = model.generate(\n",
    " inputs,\n",
    " max_new_tokens=10,\n",
    ")\n",
    "print(tokenizer.decode(output[0]))"
   ]
  }
 ],
 "metadata": {
  "kernelspec": {
   "display_name": "genaibook",
   "language": "python",
   "name": "python3"
  },
  "language_info": {
   "codemirror_mode": {
    "name": "ipython",
    "version": 3
   },
   "file_extension": ".py",
   "mimetype": "text/x-python",
   "name": "python",
   "nbconvert_exporter": "python",
   "pygments_lexer": "ipython3",
   "version": "3.10.16"
  }
 },
 "nbformat": 4,
 "nbformat_minor": 5
}
